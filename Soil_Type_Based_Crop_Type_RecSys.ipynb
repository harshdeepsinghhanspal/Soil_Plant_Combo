{
  "cells": [
    {
      "cell_type": "code",
      "execution_count": 1,
      "metadata": {
        "id": "ZeCUX5AIkQY3"
      },
      "outputs": [],
      "source": [
        "import numpy as np\n",
        "import matplotlib.pyplot as plt\n",
        "import pandas as pd\n",
        "import seaborn as sns"
      ]
    },
    {
      "cell_type": "code",
      "execution_count": 2,
      "metadata": {
        "id": "aGPoixoNki5t"
      },
      "outputs": [],
      "source": [
        "df = pd.read_csv(\"crops_dataset.csv\")"
      ]
    },
    {
      "cell_type": "code",
      "execution_count": 3,
      "metadata": {
        "colab": {
          "base_uri": "https://localhost:8080/",
          "height": 206
        },
        "id": "IvWm6miqlAHd",
        "outputId": "d8a36ca8-248d-4be1-e18a-bcd76e54bad2"
      },
      "outputs": [
        {
          "data": {
            "text/html": [
              "<div>\n",
              "<style scoped>\n",
              "    .dataframe tbody tr th:only-of-type {\n",
              "        vertical-align: middle;\n",
              "    }\n",
              "\n",
              "    .dataframe tbody tr th {\n",
              "        vertical-align: top;\n",
              "    }\n",
              "\n",
              "    .dataframe thead th {\n",
              "        text-align: right;\n",
              "    }\n",
              "</style>\n",
              "<table border=\"1\" class=\"dataframe\">\n",
              "  <thead>\n",
              "    <tr style=\"text-align: right;\">\n",
              "      <th></th>\n",
              "      <th>N</th>\n",
              "      <th>P</th>\n",
              "      <th>K</th>\n",
              "      <th>ph</th>\n",
              "      <th>EC</th>\n",
              "      <th>S</th>\n",
              "      <th>Cu</th>\n",
              "      <th>Fe</th>\n",
              "      <th>Mn</th>\n",
              "      <th>Zn</th>\n",
              "      <th>B</th>\n",
              "      <th>label</th>\n",
              "    </tr>\n",
              "  </thead>\n",
              "  <tbody>\n",
              "    <tr>\n",
              "      <th>0</th>\n",
              "      <td>143</td>\n",
              "      <td>69</td>\n",
              "      <td>217</td>\n",
              "      <td>5.9</td>\n",
              "      <td>0.58</td>\n",
              "      <td>0.23</td>\n",
              "      <td>10.20</td>\n",
              "      <td>116.35</td>\n",
              "      <td>59.96</td>\n",
              "      <td>54.85</td>\n",
              "      <td>21.29</td>\n",
              "      <td>pomegranate</td>\n",
              "    </tr>\n",
              "    <tr>\n",
              "      <th>1</th>\n",
              "      <td>170</td>\n",
              "      <td>36</td>\n",
              "      <td>216</td>\n",
              "      <td>5.9</td>\n",
              "      <td>0.15</td>\n",
              "      <td>0.28</td>\n",
              "      <td>15.69</td>\n",
              "      <td>114.20</td>\n",
              "      <td>56.87</td>\n",
              "      <td>31.28</td>\n",
              "      <td>28.62</td>\n",
              "      <td>pomegranate</td>\n",
              "    </tr>\n",
              "    <tr>\n",
              "      <th>2</th>\n",
              "      <td>158</td>\n",
              "      <td>66</td>\n",
              "      <td>219</td>\n",
              "      <td>6.8</td>\n",
              "      <td>0.34</td>\n",
              "      <td>0.20</td>\n",
              "      <td>15.29</td>\n",
              "      <td>65.87</td>\n",
              "      <td>51.81</td>\n",
              "      <td>57.12</td>\n",
              "      <td>27.59</td>\n",
              "      <td>pomegranate</td>\n",
              "    </tr>\n",
              "    <tr>\n",
              "      <th>3</th>\n",
              "      <td>133</td>\n",
              "      <td>45</td>\n",
              "      <td>207</td>\n",
              "      <td>6.4</td>\n",
              "      <td>0.94</td>\n",
              "      <td>0.21</td>\n",
              "      <td>8.48</td>\n",
              "      <td>103.10</td>\n",
              "      <td>43.81</td>\n",
              "      <td>68.50</td>\n",
              "      <td>47.29</td>\n",
              "      <td>pomegranate</td>\n",
              "    </tr>\n",
              "    <tr>\n",
              "      <th>4</th>\n",
              "      <td>132</td>\n",
              "      <td>48</td>\n",
              "      <td>218</td>\n",
              "      <td>6.7</td>\n",
              "      <td>0.54</td>\n",
              "      <td>0.19</td>\n",
              "      <td>5.59</td>\n",
              "      <td>63.40</td>\n",
              "      <td>56.40</td>\n",
              "      <td>46.71</td>\n",
              "      <td>31.04</td>\n",
              "      <td>pomegranate</td>\n",
              "    </tr>\n",
              "  </tbody>\n",
              "</table>\n",
              "</div>"
            ],
            "text/plain": [
              "     N   P    K   ph    EC     S     Cu      Fe     Mn     Zn      B   \n",
              "0  143  69  217  5.9  0.58  0.23  10.20  116.35  59.96  54.85  21.29  \\\n",
              "1  170  36  216  5.9  0.15  0.28  15.69  114.20  56.87  31.28  28.62   \n",
              "2  158  66  219  6.8  0.34  0.20  15.29   65.87  51.81  57.12  27.59   \n",
              "3  133  45  207  6.4  0.94  0.21   8.48  103.10  43.81  68.50  47.29   \n",
              "4  132  48  218  6.7  0.54  0.19   5.59   63.40  56.40  46.71  31.04   \n",
              "\n",
              "         label  \n",
              "0  pomegranate  \n",
              "1  pomegranate  \n",
              "2  pomegranate  \n",
              "3  pomegranate  \n",
              "4  pomegranate  "
            ]
          },
          "execution_count": 3,
          "metadata": {},
          "output_type": "execute_result"
        }
      ],
      "source": [
        "df.head()"
      ]
    },
    {
      "cell_type": "code",
      "execution_count": 4,
      "metadata": {
        "colab": {
          "base_uri": "https://localhost:8080/"
        },
        "id": "mjeOsN2xwxxo",
        "outputId": "ccb37b32-8903-4380-83bb-080079f2b22a"
      },
      "outputs": [
        {
          "name": "stdout",
          "output_type": "stream",
          "text": [
            "<class 'pandas.core.frame.DataFrame'>\n",
            "RangeIndex: 620 entries, 0 to 619\n",
            "Data columns (total 12 columns):\n",
            " #   Column  Non-Null Count  Dtype  \n",
            "---  ------  --------------  -----  \n",
            " 0   N       620 non-null    int64  \n",
            " 1   P       620 non-null    int64  \n",
            " 2   K       620 non-null    int64  \n",
            " 3   ph      620 non-null    float64\n",
            " 4   EC      620 non-null    float64\n",
            " 5   S       620 non-null    float64\n",
            " 6   Cu      620 non-null    float64\n",
            " 7   Fe      620 non-null    float64\n",
            " 8   Mn      620 non-null    float64\n",
            " 9   Zn      620 non-null    float64\n",
            " 10  B       620 non-null    float64\n",
            " 11  label   620 non-null    object \n",
            "dtypes: float64(8), int64(3), object(1)\n",
            "memory usage: 58.2+ KB\n"
          ]
        }
      ],
      "source": [
        "df.info()"
      ]
    },
    {
      "cell_type": "code",
      "execution_count": 5,
      "metadata": {
        "colab": {
          "base_uri": "https://localhost:8080/",
          "height": 466
        },
        "id": "EzHUzRaGlCFM",
        "outputId": "6a9111b2-ba0c-4419-a954-33997dd1d46c"
      },
      "outputs": [
        {
          "data": {
            "text/plain": [
              "<Axes: xlabel='label', ylabel='count'>"
            ]
          },
          "execution_count": 5,
          "metadata": {},
          "output_type": "execute_result"
        },
        {
          "data": {
            "image/png": "[encoded data removed]",
            "text/plain": [
              "<Figure size 640x480 with 1 Axes>"
            ]
          },
          "metadata": {},
          "output_type": "display_data"
        }
      ],
      "source": [
        "sns.countplot(x=\"label\", data=df)"
      ]
    },
    {
      "cell_type": "code",
      "execution_count": 6,
      "metadata": {
        "colab": {
          "base_uri": "https://localhost:8080/",
          "height": 466
        },
        "id": "HXHwcQ47lcmn",
        "outputId": "293b9152-6c35-4316-ce74-85b579b1b1e4"
      },
      "outputs": [
        {
          "data": {
            "text/plain": [
              "<Axes: xlabel='label', ylabel='K'>"
            ]
          },
          "execution_count": 6,
          "metadata": {},
          "output_type": "execute_result"
        },
        {
          "data": {
            "image/png": "[encoded data removed]",
            "text/plain": [
              "<Figure size 640x480 with 1 Axes>"
            ]
          },
          "metadata": {},
          "output_type": "display_data"
        }
      ],
      "source": [
        "sns.boxplot(x='label',y='K',data=df)"
      ]
    },
    {
      "cell_type": "code",
      "execution_count": 7,
      "metadata": {
        "colab": {
          "base_uri": "https://localhost:8080/",
          "height": 206
        },
        "id": "OlmB0shqqp-Q",
        "outputId": "65610eaf-66f3-46cc-d69e-a846fc5b3911"
      },
      "outputs": [
        {
          "data": {
            "text/html": [
              "<div>\n",
              "<style scoped>\n",
              "    .dataframe tbody tr th:only-of-type {\n",
              "        vertical-align: middle;\n",
              "    }\n",
              "\n",
              "    .dataframe tbody tr th {\n",
              "        vertical-align: top;\n",
              "    }\n",
              "\n",
              "    .dataframe thead th {\n",
              "        text-align: right;\n",
              "    }\n",
              "</style>\n",
              "<table border=\"1\" class=\"dataframe\">\n",
              "  <thead>\n",
              "    <tr style=\"text-align: right;\">\n",
              "      <th></th>\n",
              "      <th>N</th>\n",
              "      <th>P</th>\n",
              "      <th>K</th>\n",
              "      <th>ph</th>\n",
              "      <th>EC</th>\n",
              "      <th>S</th>\n",
              "      <th>Cu</th>\n",
              "      <th>Fe</th>\n",
              "      <th>Mn</th>\n",
              "      <th>Zn</th>\n",
              "      <th>B</th>\n",
              "    </tr>\n",
              "  </thead>\n",
              "  <tbody>\n",
              "    <tr>\n",
              "      <th>0</th>\n",
              "      <td>143</td>\n",
              "      <td>69</td>\n",
              "      <td>217</td>\n",
              "      <td>5.9</td>\n",
              "      <td>0.58</td>\n",
              "      <td>0.23</td>\n",
              "      <td>10.20</td>\n",
              "      <td>116.35</td>\n",
              "      <td>59.96</td>\n",
              "      <td>54.85</td>\n",
              "      <td>21.29</td>\n",
              "    </tr>\n",
              "    <tr>\n",
              "      <th>1</th>\n",
              "      <td>170</td>\n",
              "      <td>36</td>\n",
              "      <td>216</td>\n",
              "      <td>5.9</td>\n",
              "      <td>0.15</td>\n",
              "      <td>0.28</td>\n",
              "      <td>15.69</td>\n",
              "      <td>114.20</td>\n",
              "      <td>56.87</td>\n",
              "      <td>31.28</td>\n",
              "      <td>28.62</td>\n",
              "    </tr>\n",
              "    <tr>\n",
              "      <th>2</th>\n",
              "      <td>158</td>\n",
              "      <td>66</td>\n",
              "      <td>219</td>\n",
              "      <td>6.8</td>\n",
              "      <td>0.34</td>\n",
              "      <td>0.20</td>\n",
              "      <td>15.29</td>\n",
              "      <td>65.87</td>\n",
              "      <td>51.81</td>\n",
              "      <td>57.12</td>\n",
              "      <td>27.59</td>\n",
              "    </tr>\n",
              "    <tr>\n",
              "      <th>3</th>\n",
              "      <td>133</td>\n",
              "      <td>45</td>\n",
              "      <td>207</td>\n",
              "      <td>6.4</td>\n",
              "      <td>0.94</td>\n",
              "      <td>0.21</td>\n",
              "      <td>8.48</td>\n",
              "      <td>103.10</td>\n",
              "      <td>43.81</td>\n",
              "      <td>68.50</td>\n",
              "      <td>47.29</td>\n",
              "    </tr>\n",
              "    <tr>\n",
              "      <th>4</th>\n",
              "      <td>132</td>\n",
              "      <td>48</td>\n",
              "      <td>218</td>\n",
              "      <td>6.7</td>\n",
              "      <td>0.54</td>\n",
              "      <td>0.19</td>\n",
              "      <td>5.59</td>\n",
              "      <td>63.40</td>\n",
              "      <td>56.40</td>\n",
              "      <td>46.71</td>\n",
              "      <td>31.04</td>\n",
              "    </tr>\n",
              "  </tbody>\n",
              "</table>\n",
              "</div>"
            ],
            "text/plain": [
              "     N   P    K   ph    EC     S     Cu      Fe     Mn     Zn      B\n",
              "0  143  69  217  5.9  0.58  0.23  10.20  116.35  59.96  54.85  21.29\n",
              "1  170  36  216  5.9  0.15  0.28  15.69  114.20  56.87  31.28  28.62\n",
              "2  158  66  219  6.8  0.34  0.20  15.29   65.87  51.81  57.12  27.59\n",
              "3  133  45  207  6.4  0.94  0.21   8.48  103.10  43.81  68.50  47.29\n",
              "4  132  48  218  6.7  0.54  0.19   5.59   63.40  56.40  46.71  31.04"
            ]
          },
          "execution_count": 7,
          "metadata": {},
          "output_type": "execute_result"
        }
      ],
      "source": [
        "df2 = df.drop('label', axis=1)\n",
        "df2.head()"
      ]
    },
    {
      "cell_type": "code",
      "execution_count": 8,
      "metadata": {
        "colab": {
          "base_uri": "https://localhost:8080/",
          "height": 394
        },
        "id": "GHrvxxz6rsDn",
        "outputId": "00804374-7713-4b8d-873e-38bfa210398e"
      },
      "outputs": [
        {
          "data": {
            "text/html": [
              "<div>\n",
              "<style scoped>\n",
              "    .dataframe tbody tr th:only-of-type {\n",
              "        vertical-align: middle;\n",
              "    }\n",
              "\n",
              "    .dataframe tbody tr th {\n",
              "        vertical-align: top;\n",
              "    }\n",
              "\n",
              "    .dataframe thead th {\n",
              "        text-align: right;\n",
              "    }\n",
              "</style>\n",
              "<table border=\"1\" class=\"dataframe\">\n",
              "  <thead>\n",
              "    <tr style=\"text-align: right;\">\n",
              "      <th></th>\n",
              "      <th>N</th>\n",
              "      <th>P</th>\n",
              "      <th>K</th>\n",
              "      <th>ph</th>\n",
              "      <th>EC</th>\n",
              "      <th>S</th>\n",
              "      <th>Cu</th>\n",
              "      <th>Fe</th>\n",
              "      <th>Mn</th>\n",
              "      <th>Zn</th>\n",
              "      <th>B</th>\n",
              "    </tr>\n",
              "  </thead>\n",
              "  <tbody>\n",
              "    <tr>\n",
              "      <th>N</th>\n",
              "      <td>1.000000</td>\n",
              "      <td>-0.065671</td>\n",
              "      <td>0.183285</td>\n",
              "      <td>0.354199</td>\n",
              "      <td>-0.301646</td>\n",
              "      <td>-0.083626</td>\n",
              "      <td>-0.017519</td>\n",
              "      <td>0.206822</td>\n",
              "      <td>0.069939</td>\n",
              "      <td>-0.026355</td>\n",
              "      <td>-0.224705</td>\n",
              "    </tr>\n",
              "    <tr>\n",
              "      <th>P</th>\n",
              "      <td>-0.065671</td>\n",
              "      <td>1.000000</td>\n",
              "      <td>0.513214</td>\n",
              "      <td>0.042980</td>\n",
              "      <td>0.202738</td>\n",
              "      <td>-0.048939</td>\n",
              "      <td>-0.373229</td>\n",
              "      <td>-0.063169</td>\n",
              "      <td>-0.535664</td>\n",
              "      <td>0.006488</td>\n",
              "      <td>0.234306</td>\n",
              "    </tr>\n",
              "    <tr>\n",
              "      <th>K</th>\n",
              "      <td>0.183285</td>\n",
              "      <td>0.513214</td>\n",
              "      <td>1.000000</td>\n",
              "      <td>0.274853</td>\n",
              "      <td>0.363129</td>\n",
              "      <td>-0.033859</td>\n",
              "      <td>-0.198268</td>\n",
              "      <td>-0.012313</td>\n",
              "      <td>-0.412358</td>\n",
              "      <td>-0.154297</td>\n",
              "      <td>-0.316088</td>\n",
              "    </tr>\n",
              "    <tr>\n",
              "      <th>ph</th>\n",
              "      <td>0.354199</td>\n",
              "      <td>0.042980</td>\n",
              "      <td>0.274853</td>\n",
              "      <td>1.000000</td>\n",
              "      <td>-0.306050</td>\n",
              "      <td>-0.011831</td>\n",
              "      <td>0.011482</td>\n",
              "      <td>0.438771</td>\n",
              "      <td>0.089584</td>\n",
              "      <td>-0.133763</td>\n",
              "      <td>-0.236816</td>\n",
              "    </tr>\n",
              "    <tr>\n",
              "      <th>EC</th>\n",
              "      <td>-0.301646</td>\n",
              "      <td>0.202738</td>\n",
              "      <td>0.363129</td>\n",
              "      <td>-0.306050</td>\n",
              "      <td>1.000000</td>\n",
              "      <td>0.067136</td>\n",
              "      <td>0.091337</td>\n",
              "      <td>-0.338141</td>\n",
              "      <td>-0.158526</td>\n",
              "      <td>-0.165028</td>\n",
              "      <td>-0.258056</td>\n",
              "    </tr>\n",
              "    <tr>\n",
              "      <th>S</th>\n",
              "      <td>-0.083626</td>\n",
              "      <td>-0.048939</td>\n",
              "      <td>-0.033859</td>\n",
              "      <td>-0.011831</td>\n",
              "      <td>0.067136</td>\n",
              "      <td>1.000000</td>\n",
              "      <td>-0.150109</td>\n",
              "      <td>-0.098775</td>\n",
              "      <td>-0.005194</td>\n",
              "      <td>-0.010924</td>\n",
              "      <td>-0.038572</td>\n",
              "    </tr>\n",
              "    <tr>\n",
              "      <th>Cu</th>\n",
              "      <td>-0.017519</td>\n",
              "      <td>-0.373229</td>\n",
              "      <td>-0.198268</td>\n",
              "      <td>0.011482</td>\n",
              "      <td>0.091337</td>\n",
              "      <td>-0.150109</td>\n",
              "      <td>1.000000</td>\n",
              "      <td>0.208911</td>\n",
              "      <td>0.480128</td>\n",
              "      <td>-0.314798</td>\n",
              "      <td>-0.320314</td>\n",
              "    </tr>\n",
              "    <tr>\n",
              "      <th>Fe</th>\n",
              "      <td>0.206822</td>\n",
              "      <td>-0.063169</td>\n",
              "      <td>-0.012313</td>\n",
              "      <td>0.438771</td>\n",
              "      <td>-0.338141</td>\n",
              "      <td>-0.098775</td>\n",
              "      <td>0.208911</td>\n",
              "      <td>1.000000</td>\n",
              "      <td>0.381501</td>\n",
              "      <td>-0.351945</td>\n",
              "      <td>-0.049652</td>\n",
              "    </tr>\n",
              "    <tr>\n",
              "      <th>Mn</th>\n",
              "      <td>0.069939</td>\n",
              "      <td>-0.535664</td>\n",
              "      <td>-0.412358</td>\n",
              "      <td>0.089584</td>\n",
              "      <td>-0.158526</td>\n",
              "      <td>-0.005194</td>\n",
              "      <td>0.480128</td>\n",
              "      <td>0.381501</td>\n",
              "      <td>1.000000</td>\n",
              "      <td>-0.325646</td>\n",
              "      <td>-0.216797</td>\n",
              "    </tr>\n",
              "    <tr>\n",
              "      <th>Zn</th>\n",
              "      <td>-0.026355</td>\n",
              "      <td>0.006488</td>\n",
              "      <td>-0.154297</td>\n",
              "      <td>-0.133763</td>\n",
              "      <td>-0.165028</td>\n",
              "      <td>-0.010924</td>\n",
              "      <td>-0.314798</td>\n",
              "      <td>-0.351945</td>\n",
              "      <td>-0.325646</td>\n",
              "      <td>1.000000</td>\n",
              "      <td>0.332802</td>\n",
              "    </tr>\n",
              "    <tr>\n",
              "      <th>B</th>\n",
              "      <td>-0.224705</td>\n",
              "      <td>0.234306</td>\n",
              "      <td>-0.316088</td>\n",
              "      <td>-0.236816</td>\n",
              "      <td>-0.258056</td>\n",
              "      <td>-0.038572</td>\n",
              "      <td>-0.320314</td>\n",
              "      <td>-0.049652</td>\n",
              "      <td>-0.216797</td>\n",
              "      <td>0.332802</td>\n",
              "      <td>1.000000</td>\n",
              "    </tr>\n",
              "  </tbody>\n",
              "</table>\n",
              "</div>"
            ],
            "text/plain": [
              "           N         P         K        ph        EC         S        Cu   \n",
              "N   1.000000 -0.065671  0.183285  0.354199 -0.301646 -0.083626 -0.017519  \\\n",
              "P  -0.065671  1.000000  0.513214  0.042980  0.202738 -0.048939 -0.373229   \n",
              "K   0.183285  0.513214  1.000000  0.274853  0.363129 -0.033859 -0.198268   \n",
              "ph  0.354199  0.042980  0.274853  1.000000 -0.306050 -0.011831  0.011482   \n",
              "EC -0.301646  0.202738  0.363129 -0.306050  1.000000  0.067136  0.091337   \n",
              "S  -0.083626 -0.048939 -0.033859 -0.011831  0.067136  1.000000 -0.150109   \n",
              "Cu -0.017519 -0.373229 -0.198268  0.011482  0.091337 -0.150109  1.000000   \n",
              "Fe  0.206822 -0.063169 -0.012313  0.438771 -0.338141 -0.098775  0.208911   \n",
              "Mn  0.069939 -0.535664 -0.412358  0.089584 -0.158526 -0.005194  0.480128   \n",
              "Zn -0.026355  0.006488 -0.154297 -0.133763 -0.165028 -0.010924 -0.314798   \n",
              "B  -0.224705  0.234306 -0.316088 -0.236816 -0.258056 -0.038572 -0.320314   \n",
              "\n",
              "          Fe        Mn        Zn         B  \n",
              "N   0.206822  0.069939 -0.026355 -0.224705  \n",
              "P  -0.063169 -0.535664  0.006488  0.234306  \n",
              "K  -0.012313 -0.412358 -0.154297 -0.316088  \n",
              "ph  0.438771  0.089584 -0.133763 -0.236816  \n",
              "EC -0.338141 -0.158526 -0.165028 -0.258056  \n",
              "S  -0.098775 -0.005194 -0.010924 -0.038572  \n",
              "Cu  0.208911  0.480128 -0.314798 -0.320314  \n",
              "Fe  1.000000  0.381501 -0.351945 -0.049652  \n",
              "Mn  0.381501  1.000000 -0.325646 -0.216797  \n",
              "Zn -0.351945 -0.325646  1.000000  0.332802  \n",
              "B  -0.049652 -0.216797  0.332802  1.000000  "
            ]
          },
          "execution_count": 8,
          "metadata": {},
          "output_type": "execute_result"
        }
      ],
      "source": [
        "df2.corr()"
      ]
    },
    {
      "cell_type": "code",
      "execution_count": 9,
      "metadata": {
        "colab": {
          "base_uri": "https://localhost:8080/",
          "height": 452
        },
        "id": "HpkpqKoIrw2U",
        "outputId": "a4f3642d-4c2e-48b6-8993-975d78ca5f53"
      },
      "outputs": [
        {
          "data": {
            "text/plain": [
              "<Axes: >"
            ]
          },
          "execution_count": 9,
          "metadata": {},
          "output_type": "execute_result"
        },
        {
          "data": {
            "image/png": "[encoded data removed]",
            "text/plain": [
              "<Figure size 640x480 with 2 Axes>"
            ]
          },
          "metadata": {},
          "output_type": "display_data"
        }
      ],
      "source": [
        "sns.heatmap(df2.corr(),linecolor='white', linewidths=1)"
      ]
    },
    {
      "cell_type": "code",
      "execution_count": 10,
      "metadata": {
        "id": "iQjqUkD9r2Ak"
      },
      "outputs": [],
      "source": [
        "from sklearn.preprocessing import LabelEncoder\n",
        "\n",
        "label_encoder = LabelEncoder()\n",
        "df['label_encoded'] = label_encoder.fit_transform(df['label'])"
      ]
    },
    {
      "cell_type": "code",
      "execution_count": 11,
      "metadata": {
        "colab": {
          "base_uri": "https://localhost:8080/",
          "height": 206
        },
        "id": "yOvgzKH2xHl0",
        "outputId": "5f98da4a-6d5c-4e62-a0a6-b54df8dbd6f6"
      },
      "outputs": [
        {
          "data": {
            "text/html": [
              "<div>\n",
              "<style scoped>\n",
              "    .dataframe tbody tr th:only-of-type {\n",
              "        vertical-align: middle;\n",
              "    }\n",
              "\n",
              "    .dataframe tbody tr th {\n",
              "        vertical-align: top;\n",
              "    }\n",
              "\n",
              "    .dataframe thead th {\n",
              "        text-align: right;\n",
              "    }\n",
              "</style>\n",
              "<table border=\"1\" class=\"dataframe\">\n",
              "  <thead>\n",
              "    <tr style=\"text-align: right;\">\n",
              "      <th></th>\n",
              "      <th>N</th>\n",
              "      <th>P</th>\n",
              "      <th>K</th>\n",
              "      <th>ph</th>\n",
              "      <th>EC</th>\n",
              "      <th>S</th>\n",
              "      <th>Cu</th>\n",
              "      <th>Fe</th>\n",
              "      <th>Mn</th>\n",
              "      <th>Zn</th>\n",
              "      <th>B</th>\n",
              "      <th>label</th>\n",
              "      <th>label_encoded</th>\n",
              "    </tr>\n",
              "  </thead>\n",
              "  <tbody>\n",
              "    <tr>\n",
              "      <th>0</th>\n",
              "      <td>143</td>\n",
              "      <td>69</td>\n",
              "      <td>217</td>\n",
              "      <td>5.9</td>\n",
              "      <td>0.58</td>\n",
              "      <td>0.23</td>\n",
              "      <td>10.20</td>\n",
              "      <td>116.35</td>\n",
              "      <td>59.96</td>\n",
              "      <td>54.85</td>\n",
              "      <td>21.29</td>\n",
              "      <td>pomegranate</td>\n",
              "      <td>3</td>\n",
              "    </tr>\n",
              "    <tr>\n",
              "      <th>1</th>\n",
              "      <td>170</td>\n",
              "      <td>36</td>\n",
              "      <td>216</td>\n",
              "      <td>5.9</td>\n",
              "      <td>0.15</td>\n",
              "      <td>0.28</td>\n",
              "      <td>15.69</td>\n",
              "      <td>114.20</td>\n",
              "      <td>56.87</td>\n",
              "      <td>31.28</td>\n",
              "      <td>28.62</td>\n",
              "      <td>pomegranate</td>\n",
              "      <td>3</td>\n",
              "    </tr>\n",
              "    <tr>\n",
              "      <th>2</th>\n",
              "      <td>158</td>\n",
              "      <td>66</td>\n",
              "      <td>219</td>\n",
              "      <td>6.8</td>\n",
              "      <td>0.34</td>\n",
              "      <td>0.20</td>\n",
              "      <td>15.29</td>\n",
              "      <td>65.87</td>\n",
              "      <td>51.81</td>\n",
              "      <td>57.12</td>\n",
              "      <td>27.59</td>\n",
              "      <td>pomegranate</td>\n",
              "      <td>3</td>\n",
              "    </tr>\n",
              "    <tr>\n",
              "      <th>3</th>\n",
              "      <td>133</td>\n",
              "      <td>45</td>\n",
              "      <td>207</td>\n",
              "      <td>6.4</td>\n",
              "      <td>0.94</td>\n",
              "      <td>0.21</td>\n",
              "      <td>8.48</td>\n",
              "      <td>103.10</td>\n",
              "      <td>43.81</td>\n",
              "      <td>68.50</td>\n",
              "      <td>47.29</td>\n",
              "      <td>pomegranate</td>\n",
              "      <td>3</td>\n",
              "    </tr>\n",
              "    <tr>\n",
              "      <th>4</th>\n",
              "      <td>132</td>\n",
              "      <td>48</td>\n",
              "      <td>218</td>\n",
              "      <td>6.7</td>\n",
              "      <td>0.54</td>\n",
              "      <td>0.19</td>\n",
              "      <td>5.59</td>\n",
              "      <td>63.40</td>\n",
              "      <td>56.40</td>\n",
              "      <td>46.71</td>\n",
              "      <td>31.04</td>\n",
              "      <td>pomegranate</td>\n",
              "      <td>3</td>\n",
              "    </tr>\n",
              "  </tbody>\n",
              "</table>\n",
              "</div>"
            ],
            "text/plain": [
              "     N   P    K   ph    EC     S     Cu      Fe     Mn     Zn      B   \n",
              "0  143  69  217  5.9  0.58  0.23  10.20  116.35  59.96  54.85  21.29  \\\n",
              "1  170  36  216  5.9  0.15  0.28  15.69  114.20  56.87  31.28  28.62   \n",
              "2  158  66  219  6.8  0.34  0.20  15.29   65.87  51.81  57.12  27.59   \n",
              "3  133  45  207  6.4  0.94  0.21   8.48  103.10  43.81  68.50  47.29   \n",
              "4  132  48  218  6.7  0.54  0.19   5.59   63.40  56.40  46.71  31.04   \n",
              "\n",
              "         label  label_encoded  \n",
              "0  pomegranate              3  \n",
              "1  pomegranate              3  \n",
              "2  pomegranate              3  \n",
              "3  pomegranate              3  \n",
              "4  pomegranate              3  "
            ]
          },
          "execution_count": 11,
          "metadata": {},
          "output_type": "execute_result"
        }
      ],
      "source": [
        "df.head()"
      ]
    },
    {
      "cell_type": "code",
      "execution_count": null,
      "metadata": {
        "colab": {
          "base_uri": "https://localhost:8080/",
          "height": 467
        },
        "id": "9FiVtBcsxJSW",
        "outputId": "76324fa1-97a5-4f22-88e0-9deeb4ff08b2"
      },
      "outputs": [
        {
          "data": {
            "text/plain": [
              "<Axes: xlabel='label_encoded', ylabel='ph'>"
            ]
          },
          "execution_count": 14,
          "metadata": {},
          "output_type": "execute_result"
        },
        {
          "data": {
            "image/png": "[encoded data removed]",
            "text/plain": [
              "<Figure size 640x480 with 1 Axes>"
            ]
          },
          "metadata": {},
          "output_type": "display_data"
        }
      ],
      "source": [
        "sns.boxplot(x='label_encoded',y='ph',data=df)"
      ]
    },
    {
      "cell_type": "code",
      "execution_count": 12,
      "metadata": {
        "colab": {
          "base_uri": "https://localhost:8080/"
        },
        "id": "1xYoLIdW5JAk",
        "outputId": "34f76019-6a73-44d6-9c9f-c4072b216f36"
      },
      "outputs": [
        {
          "name": "stdout",
          "output_type": "stream",
          "text": [
            "Label Encoding Mapping:\n",
            "grapes: 0\n",
            "mango: 1\n",
            "mulberry: 2\n",
            "pomegranate: 3\n",
            "potato: 4\n",
            "ragi: 5\n"
          ]
        }
      ],
      "source": [
        "# Get the mapping of labels to encoded values\n",
        "label_mapping = dict(zip(label_encoder.classes_, label_encoder.transform(label_encoder.classes_)))\n",
        "\n",
        "# Print the label mapping\n",
        "print(\"Label Encoding Mapping:\")\n",
        "for label, encoded in label_mapping.items():\n",
        "    print(f\"{label}: {encoded}\")"
      ]
    },
    {
      "cell_type": "code",
      "execution_count": 13,
      "metadata": {
        "id": "SMPw1cx053ER"
      },
      "outputs": [],
      "source": [
        "X = df.drop(['label','label_encoded'], axis=1)\n",
        "y = df['label_encoded']"
      ]
    },
    {
      "cell_type": "code",
      "execution_count": 14,
      "metadata": {
        "id": "e6QJlu986h0M"
      },
      "outputs": [],
      "source": [
        "from sklearn.model_selection import train_test_split\n",
        "\n",
        "X_train, X_test, y_train, y_test = train_test_split(X, y, test_size=0.2, random_state=42)"
      ]
    },
    {
      "cell_type": "code",
      "execution_count": 15,
      "metadata": {
        "id": "qvw3ogw68XFu"
      },
      "outputs": [],
      "source": [
        "from sklearn.preprocessing import StandardScaler\n",
        "from sklearn.linear_model import LogisticRegression\n",
        "from sklearn.metrics import confusion_matrix, ConfusionMatrixDisplay\n",
        "\n",
        "scaler = StandardScaler()\n",
        "X_train_scaled = scaler.fit_transform(X_train)\n",
        "X_test_scaled = scaler.transform(X_test)"
      ]
    },
    {
      "cell_type": "code",
      "execution_count": 16,
      "metadata": {
        "colab": {
          "base_uri": "https://localhost:8080/",
          "height": 75
        },
        "id": "D4SYzjFp-zcv",
        "outputId": "09bf4cad-bfe2-41c1-8637-9797b3a39b59"
      },
      "outputs": [
        {
          "data": {
            "text/html": [
              "<style>#sk-container-id-1 {color: black;background-color: white;}#sk-container-id-1 pre{padding: 0;}#sk-container-id-1 div.sk-toggleable {background-color: white;}#sk-container-id-1 label.sk-toggleable__label {cursor: pointer;display: block;width: 100%;margin-bottom: 0;padding: 0.3em;box-sizing: border-box;text-align: center;}#sk-container-id-1 label.sk-toggleable__label-arrow:before {content: \"▸\";float: left;margin-right: 0.25em;color: #696969;}#sk-container-id-1 label.sk-toggleable__label-arrow:hover:before {color: black;}#sk-container-id-1 div.sk-estimator:hover label.sk-toggleable__label-arrow:before {color: black;}#sk-container-id-1 div.sk-toggleable__content {max-height: 0;max-width: 0;overflow: hidden;text-align: left;background-color: #f0f8ff;}#sk-container-id-1 div.sk-toggleable__content pre {margin: 0.2em;color: black;border-radius: 0.25em;background-color: #f0f8ff;}#sk-container-id-1 input.sk-toggleable__control:checked~div.sk-toggleable__content {max-height: 200px;max-width: 100%;overflow: auto;}#sk-container-id-1 input.sk-toggleable__control:checked~label.sk-toggleable__label-arrow:before {content: \"▾\";}#sk-container-id-1 div.sk-estimator input.sk-toggleable__control:checked~label.sk-toggleable__label {background-color: #d4ebff;}#sk-container-id-1 div.sk-label input.sk-toggleable__control:checked~label.sk-toggleable__label {background-color: #d4ebff;}#sk-container-id-1 input.sk-hidden--visually {border: 0;clip: rect(1px 1px 1px 1px);clip: rect(1px, 1px, 1px, 1px);height: 1px;margin: -1px;overflow: hidden;padding: 0;position: absolute;width: 1px;}#sk-container-id-1 div.sk-estimator {font-family: monospace;background-color: #f0f8ff;border: 1px dotted black;border-radius: 0.25em;box-sizing: border-box;margin-bottom: 0.5em;}#sk-container-id-1 div.sk-estimator:hover {background-color: #d4ebff;}#sk-container-id-1 div.sk-parallel-item::after {content: \"\";width: 100%;border-bottom: 1px solid gray;flex-grow: 1;}#sk-container-id-1 div.sk-label:hover label.sk-toggleable__label {background-color: #d4ebff;}#sk-container-id-1 div.sk-serial::before {content: \"\";position: absolute;border-left: 1px solid gray;box-sizing: border-box;top: 0;bottom: 0;left: 50%;z-index: 0;}#sk-container-id-1 div.sk-serial {display: flex;flex-direction: column;align-items: center;background-color: white;padding-right: 0.2em;padding-left: 0.2em;position: relative;}#sk-container-id-1 div.sk-item {position: relative;z-index: 1;}#sk-container-id-1 div.sk-parallel {display: flex;align-items: stretch;justify-content: center;background-color: white;position: relative;}#sk-container-id-1 div.sk-item::before, #sk-container-id-1 div.sk-parallel-item::before {content: \"\";position: absolute;border-left: 1px solid gray;box-sizing: border-box;top: 0;bottom: 0;left: 50%;z-index: -1;}#sk-container-id-1 div.sk-parallel-item {display: flex;flex-direction: column;z-index: 1;position: relative;background-color: white;}#sk-container-id-1 div.sk-parallel-item:first-child::after {align-self: flex-end;width: 50%;}#sk-container-id-1 div.sk-parallel-item:last-child::after {align-self: flex-start;width: 50%;}#sk-container-id-1 div.sk-parallel-item:only-child::after {width: 0;}#sk-container-id-1 div.sk-dashed-wrapped {border: 1px dashed gray;margin: 0 0.4em 0.5em 0.4em;box-sizing: border-box;padding-bottom: 0.4em;background-color: white;}#sk-container-id-1 div.sk-label label {font-family: monospace;font-weight: bold;display: inline-block;line-height: 1.2em;}#sk-container-id-1 div.sk-label-container {text-align: center;}#sk-container-id-1 div.sk-container {/* jupyter's `normalize.less` sets `[hidden] { display: none; }` but bootstrap.min.css set `[hidden] { display: none !important; }` so we also need the `!important` here to be able to override the default hidden behavior on the sphinx rendered scikit-learn.org. See: https://github.com/scikit-learn/scikit-learn/issues/21755 */display: inline-block !important;position: relative;}#sk-container-id-1 div.sk-text-repr-fallback {display: none;}</style><div id=\"sk-container-id-1\" class=\"sk-top-container\"><div class=\"sk-text-repr-fallback\"><pre>LogisticRegression(max_iter=200, multi_class=&#x27;multinomial&#x27;)</pre><b>In a Jupyter environment, please rerun this cell to show the HTML representation or trust the notebook. <br />On GitHub, the HTML representation is unable to render, please try loading this page with nbviewer.org.</b></div><div class=\"sk-container\" hidden><div class=\"sk-item\"><div class=\"sk-estimator sk-toggleable\"><input class=\"sk-toggleable__control sk-hidden--visually\" id=\"sk-estimator-id-1\" type=\"checkbox\" checked><label for=\"sk-estimator-id-1\" class=\"sk-toggleable__label sk-toggleable__label-arrow\">LogisticRegression</label><div class=\"sk-toggleable__content\"><pre>LogisticRegression(max_iter=200, multi_class=&#x27;multinomial&#x27;)</pre></div></div></div></div></div>"
            ],
            "text/plain": [
              "LogisticRegression(max_iter=200, multi_class='multinomial')"
            ]
          },
          "execution_count": 16,
          "metadata": {},
          "output_type": "execute_result"
        }
      ],
      "source": [
        "model = LogisticRegression(multi_class='multinomial', solver='lbfgs', max_iter=200)\n",
        "model.fit(X_train_scaled, y_train)"
      ]
    },
    {
      "cell_type": "code",
      "execution_count": 17,
      "metadata": {
        "id": "YFeFIHl6_Acy"
      },
      "outputs": [],
      "source": [
        "y_pred = model.predict(X_test_scaled)"
      ]
    },
    {
      "cell_type": "code",
      "execution_count": 18,
      "metadata": {
        "colab": {
          "base_uri": "https://localhost:8080/",
          "height": 449
        },
        "id": "vdV2FCNb_E8w",
        "outputId": "32eadc19-03b2-40ee-a78d-fa3847b590fe"
      },
      "outputs": [
        {
          "data": {
            "image/png": "[encoded data removed]",
            "text/plain": [
              "<Figure size 640x480 with 2 Axes>"
            ]
          },
          "metadata": {},
          "output_type": "display_data"
        }
      ],
      "source": [
        "cm = confusion_matrix(y_test, y_pred)\n",
        "disp = ConfusionMatrixDisplay(confusion_matrix=cm)\n",
        "disp.plot()\n",
        "plt.show()"
      ]
    },
    {
      "cell_type": "code",
      "execution_count": 20,
      "metadata": {
        "id": "QIJ8vLWQBo92"
      },
      "outputs": [],
      "source": [
        "import pickle\n",
        "\n",
        "with open('crop_model.pkl','wb') as f:\n",
        "  pickle.dump(model ,f)"
      ]
    },
    {
      "cell_type": "code",
      "execution_count": null,
      "metadata": {
        "id": "qXVlSmnHMeam"
      },
      "outputs": [],
      "source": []
    }
  ],
  "metadata": {
    "colab": {
      "provenance": []
    },
    "kernelspec": {
      "display_name": "Python 3",
      "name": "python3"
    },
    "language_info": {
      "codemirror_mode": {
        "name": "ipython",
        "version": 3
      },
      "file_extension": ".py",
      "mimetype": "text/x-python",
      "name": "python",
      "nbconvert_exporter": "python",
      "pygments_lexer": "ipython3",
      "version": "3.9.8"
    }
  },
  "nbformat": 4,
  "nbformat_minor": 0
}
